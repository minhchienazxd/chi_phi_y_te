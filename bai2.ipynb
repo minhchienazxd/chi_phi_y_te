{
 "cells": [
  {
   "cell_type": "code",
   "execution_count": 2,
   "id": "50b50be3-e1e0-4a1d-bcd6-038915293558",
   "metadata": {},
   "outputs": [],
   "source": [
    "import pandas as pd\n",
    "import matplotlib.pyplot as plt\n",
    "import numpy as np\n",
    "import seaborn as sns \n",
    "from scipy import stats\n",
    "\n"
   ]
  },
  {
   "cell_type": "code",
   "execution_count": 4,
   "id": "a363caa6-f387-41ca-83f1-27ecf7fcef25",
   "metadata": {},
   "outputs": [
    {
     "name": "stdout",
     "output_type": "stream",
     "text": [
      "<class 'pandas.core.frame.DataFrame'>\n",
      "RangeIndex: 192 entries, 0 to 191\n",
      "Data columns (total 7 columns):\n",
      " #   Column       Non-Null Count  Dtype  \n",
      "---  ------       --------------  -----  \n",
      " 0   time         192 non-null    object \n",
      " 1   Ha Noi       192 non-null    float64\n",
      " 2   Vinh         192 non-null    float64\n",
      " 3   Da Nang      192 non-null    float64\n",
      " 4   Nha Trang    192 non-null    float64\n",
      " 5   Ho Chi Minh  192 non-null    float64\n",
      " 6   Ca Mau       192 non-null    float64\n",
      "dtypes: float64(6), object(1)\n",
      "memory usage: 10.6+ KB\n"
     ]
    }
   ],
   "source": [
    "db = pd.read_csv('data/temperature.csv')\n",
    "db.info()"
   ]
  },
  {
   "cell_type": "code",
   "execution_count": 52,
   "id": "82b0a445-da53-4aaa-9957-065ea90038b9",
   "metadata": {},
   "outputs": [
    {
     "data": {
      "text/html": [
       "<div>\n",
       "<style scoped>\n",
       "    .dataframe tbody tr th:only-of-type {\n",
       "        vertical-align: middle;\n",
       "    }\n",
       "\n",
       "    .dataframe tbody tr th {\n",
       "        vertical-align: top;\n",
       "    }\n",
       "\n",
       "    .dataframe thead th {\n",
       "        text-align: right;\n",
       "    }\n",
       "</style>\n",
       "<table border=\"1\" class=\"dataframe\">\n",
       "  <thead>\n",
       "    <tr style=\"text-align: right;\">\n",
       "      <th></th>\n",
       "      <th>Ha Noi</th>\n",
       "      <th>Vinh</th>\n",
       "      <th>Da Nang</th>\n",
       "      <th>Nha Trang</th>\n",
       "      <th>Ho Chi Minh</th>\n",
       "      <th>Ca Mau</th>\n",
       "    </tr>\n",
       "  </thead>\n",
       "  <tbody>\n",
       "    <tr>\n",
       "      <th>count</th>\n",
       "      <td>192.000000</td>\n",
       "      <td>192.000000</td>\n",
       "      <td>192.000000</td>\n",
       "      <td>192.000000</td>\n",
       "      <td>192.000000</td>\n",
       "      <td>192.000000</td>\n",
       "    </tr>\n",
       "    <tr>\n",
       "      <th>mean</th>\n",
       "      <td>27.719271</td>\n",
       "      <td>26.719896</td>\n",
       "      <td>25.522500</td>\n",
       "      <td>26.166875</td>\n",
       "      <td>26.159219</td>\n",
       "      <td>26.643750</td>\n",
       "    </tr>\n",
       "    <tr>\n",
       "      <th>std</th>\n",
       "      <td>3.075625</td>\n",
       "      <td>2.314602</td>\n",
       "      <td>1.932761</td>\n",
       "      <td>0.923510</td>\n",
       "      <td>1.719259</td>\n",
       "      <td>2.144252</td>\n",
       "    </tr>\n",
       "    <tr>\n",
       "      <th>min</th>\n",
       "      <td>14.000000</td>\n",
       "      <td>22.600000</td>\n",
       "      <td>20.930000</td>\n",
       "      <td>24.500000</td>\n",
       "      <td>23.220000</td>\n",
       "      <td>11.000000</td>\n",
       "    </tr>\n",
       "    <tr>\n",
       "      <th>25%</th>\n",
       "      <td>25.645000</td>\n",
       "      <td>24.875000</td>\n",
       "      <td>24.010000</td>\n",
       "      <td>25.485000</td>\n",
       "      <td>24.797500</td>\n",
       "      <td>25.297500</td>\n",
       "    </tr>\n",
       "    <tr>\n",
       "      <th>50%</th>\n",
       "      <td>27.685000</td>\n",
       "      <td>26.360000</td>\n",
       "      <td>25.310000</td>\n",
       "      <td>26.085000</td>\n",
       "      <td>25.930000</td>\n",
       "      <td>26.230000</td>\n",
       "    </tr>\n",
       "    <tr>\n",
       "      <th>75%</th>\n",
       "      <td>29.947500</td>\n",
       "      <td>28.022500</td>\n",
       "      <td>26.932500</td>\n",
       "      <td>26.795000</td>\n",
       "      <td>27.485000</td>\n",
       "      <td>27.975000</td>\n",
       "    </tr>\n",
       "    <tr>\n",
       "      <th>max</th>\n",
       "      <td>42.000000</td>\n",
       "      <td>32.570000</td>\n",
       "      <td>29.880000</td>\n",
       "      <td>28.680000</td>\n",
       "      <td>31.060000</td>\n",
       "      <td>31.370000</td>\n",
       "    </tr>\n",
       "  </tbody>\n",
       "</table>\n",
       "</div>"
      ],
      "text/plain": [
       "           Ha Noi        Vinh     Da Nang   Nha Trang  Ho Chi Minh      Ca Mau\n",
       "count  192.000000  192.000000  192.000000  192.000000   192.000000  192.000000\n",
       "mean    27.719271   26.719896   25.522500   26.166875    26.159219   26.643750\n",
       "std      3.075625    2.314602    1.932761    0.923510     1.719259    2.144252\n",
       "min     14.000000   22.600000   20.930000   24.500000    23.220000   11.000000\n",
       "25%     25.645000   24.875000   24.010000   25.485000    24.797500   25.297500\n",
       "50%     27.685000   26.360000   25.310000   26.085000    25.930000   26.230000\n",
       "75%     29.947500   28.022500   26.932500   26.795000    27.485000   27.975000\n",
       "max     42.000000   32.570000   29.880000   28.680000    31.060000   31.370000"
      ]
     },
     "execution_count": 52,
     "metadata": {},
     "output_type": "execute_result"
    }
   ],
   "source": [
    "db.describe()"
   ]
  },
  {
   "cell_type": "code",
   "execution_count": 54,
   "id": "08d5c300-346e-4e4a-b928-9cbd71f82bee",
   "metadata": {},
   "outputs": [
    {
     "data": {
      "text/plain": [
       "<Axes: >"
      ]
     },
     "execution_count": 54,
     "metadata": {},
     "output_type": "execute_result"
    },
    {
     "data": {
      "image/png": "[encoded data removed]",
      "text/plain": [
       "<Figure size 640x480 with 1 Axes>"
      ]
     },
     "metadata": {},
     "output_type": "display_data"
    }
   ],
   "source": [
    "\n",
    "\n",
    "db['Ha Noi'].hist()\n",
    "\n"
   ]
  },
  {
   "cell_type": "code",
   "execution_count": 56,
   "id": "5a4b5041-4f78-4534-a986-8915514a0899",
   "metadata": {},
   "outputs": [
    {
     "name": "stdout",
     "output_type": "stream",
     "text": [
      "27.719270833333336\n"
     ]
    }
   ],
   "source": [
    "mean_db = db['Ha Noi'].mean()\n",
    "print(mean_db)"
   ]
  },
  {
   "cell_type": "code",
   "execution_count": 58,
   "id": "fc41ebac-0fc8-4d93-aacc-e3cb1e930219",
   "metadata": {},
   "outputs": [
    {
     "name": "stdout",
     "output_type": "stream",
     "text": [
      "3.0756254188117875\n"
     ]
    }
   ],
   "source": [
    "std_db = db['Ha Noi'].std()\n",
    "print(std_db)"
   ]
  },
  {
   "cell_type": "code",
   "execution_count": 60,
   "id": "6354ff84-cdd0-45d1-8927-9f686ce92c66",
   "metadata": {},
   "outputs": [
    {
     "name": "stdout",
     "output_type": "stream",
     "text": [
      "24.64364541452155\n"
     ]
    }
   ],
   "source": [
    "lower_limit = mean_db - 1 * std_db\n",
    "print(lower_limit)"
   ]
  },
  {
   "cell_type": "code",
   "execution_count": 62,
   "id": "8211853d-bf6b-488f-8cee-76b1f4745dc1",
   "metadata": {},
   "outputs": [
    {
     "name": "stdout",
     "output_type": "stream",
     "text": [
      "30.794896252145122\n"
     ]
    }
   ],
   "source": [
    "uper_limit = mean_db + 1 * std_db\n",
    "print(uper_limit)"
   ]
  },
  {
   "cell_type": "code",
   "execution_count": 64,
   "id": "8608fa9e-4b17-4881-976d-9235ca501d60",
   "metadata": {},
   "outputs": [
    {
     "data": {
      "text/plain": [
       "70.83333333333334"
      ]
     },
     "execution_count": 64,
     "metadata": {},
     "output_type": "execute_result"
    }
   ],
   "source": [
    "((db['Ha Noi'] >= lower_limit) & (db['Ha Noi'] <= uper_limit)).mean() * 100"
   ]
  },
  {
   "cell_type": "code",
   "execution_count": 68,
   "id": "5b30f6aa-2a11-478a-8d0b-e9af7ef43f8d",
   "metadata": {},
   "outputs": [
    {
     "data": {
      "text/html": [
       "<div>\n",
       "<style scoped>\n",
       "    .dataframe tbody tr th:only-of-type {\n",
       "        vertical-align: middle;\n",
       "    }\n",
       "\n",
       "    .dataframe tbody tr th {\n",
       "        vertical-align: top;\n",
       "    }\n",
       "\n",
       "    .dataframe thead th {\n",
       "        text-align: right;\n",
       "    }\n",
       "</style>\n",
       "<table border=\"1\" class=\"dataframe\">\n",
       "  <thead>\n",
       "    <tr style=\"text-align: right;\">\n",
       "      <th></th>\n",
       "      <th>time</th>\n",
       "      <th>Ha Noi</th>\n",
       "      <th>Vinh</th>\n",
       "      <th>Da Nang</th>\n",
       "      <th>Nha Trang</th>\n",
       "      <th>Ho Chi Minh</th>\n",
       "      <th>Ca Mau</th>\n",
       "      <th>z_score</th>\n",
       "    </tr>\n",
       "  </thead>\n",
       "  <tbody>\n",
       "    <tr>\n",
       "      <th>0</th>\n",
       "      <td>00 15-9-2019</td>\n",
       "      <td>25.65</td>\n",
       "      <td>24.79</td>\n",
       "      <td>24.01</td>\n",
       "      <td>25.06</td>\n",
       "      <td>25.48</td>\n",
       "      <td>24.97</td>\n",
       "      <td>-0.672797</td>\n",
       "    </tr>\n",
       "    <tr>\n",
       "      <th>1</th>\n",
       "      <td>01 15-9-2019</td>\n",
       "      <td>25.31</td>\n",
       "      <td>24.21</td>\n",
       "      <td>24.02</td>\n",
       "      <td>24.93</td>\n",
       "      <td>25.16</td>\n",
       "      <td>24.83</td>\n",
       "      <td>-0.783343</td>\n",
       "    </tr>\n",
       "    <tr>\n",
       "      <th>2</th>\n",
       "      <td>02 15-9-2019</td>\n",
       "      <td>25.05</td>\n",
       "      <td>23.73</td>\n",
       "      <td>23.89</td>\n",
       "      <td>24.79</td>\n",
       "      <td>24.80</td>\n",
       "      <td>24.55</td>\n",
       "      <td>-0.867879</td>\n",
       "    </tr>\n",
       "    <tr>\n",
       "      <th>3</th>\n",
       "      <td>03 15-9-2019</td>\n",
       "      <td>24.79</td>\n",
       "      <td>23.36</td>\n",
       "      <td>23.83</td>\n",
       "      <td>24.84</td>\n",
       "      <td>24.74</td>\n",
       "      <td>24.48</td>\n",
       "      <td>-0.952415</td>\n",
       "    </tr>\n",
       "    <tr>\n",
       "      <th>4</th>\n",
       "      <td>04 15-9-2019</td>\n",
       "      <td>24.59</td>\n",
       "      <td>23.05</td>\n",
       "      <td>23.69</td>\n",
       "      <td>24.82</td>\n",
       "      <td>24.80</td>\n",
       "      <td>24.38</td>\n",
       "      <td>-1.017442</td>\n",
       "    </tr>\n",
       "    <tr>\n",
       "      <th>...</th>\n",
       "      <td>...</td>\n",
       "      <td>...</td>\n",
       "      <td>...</td>\n",
       "      <td>...</td>\n",
       "      <td>...</td>\n",
       "      <td>...</td>\n",
       "      <td>...</td>\n",
       "      <td>...</td>\n",
       "    </tr>\n",
       "    <tr>\n",
       "      <th>187</th>\n",
       "      <td>19 22-9-2019</td>\n",
       "      <td>26.56</td>\n",
       "      <td>24.92</td>\n",
       "      <td>24.10</td>\n",
       "      <td>26.11</td>\n",
       "      <td>25.56</td>\n",
       "      <td>26.43</td>\n",
       "      <td>-0.376922</td>\n",
       "    </tr>\n",
       "    <tr>\n",
       "      <th>188</th>\n",
       "      <td>20 22-9-2019</td>\n",
       "      <td>25.69</td>\n",
       "      <td>24.77</td>\n",
       "      <td>23.76</td>\n",
       "      <td>25.97</td>\n",
       "      <td>25.23</td>\n",
       "      <td>25.88</td>\n",
       "      <td>-0.659791</td>\n",
       "    </tr>\n",
       "    <tr>\n",
       "      <th>189</th>\n",
       "      <td>21 22-9-2019</td>\n",
       "      <td>24.81</td>\n",
       "      <td>24.47</td>\n",
       "      <td>23.40</td>\n",
       "      <td>25.86</td>\n",
       "      <td>25.05</td>\n",
       "      <td>25.29</td>\n",
       "      <td>-0.945912</td>\n",
       "    </tr>\n",
       "    <tr>\n",
       "      <th>190</th>\n",
       "      <td>22 22-9-2019</td>\n",
       "      <td>23.97</td>\n",
       "      <td>24.22</td>\n",
       "      <td>22.95</td>\n",
       "      <td>25.74</td>\n",
       "      <td>24.92</td>\n",
       "      <td>24.87</td>\n",
       "      <td>-1.219027</td>\n",
       "    </tr>\n",
       "    <tr>\n",
       "      <th>191</th>\n",
       "      <td>23 22-9-2019</td>\n",
       "      <td>22.84</td>\n",
       "      <td>23.99</td>\n",
       "      <td>22.59</td>\n",
       "      <td>25.50</td>\n",
       "      <td>24.77</td>\n",
       "      <td>24.57</td>\n",
       "      <td>-1.586432</td>\n",
       "    </tr>\n",
       "  </tbody>\n",
       "</table>\n",
       "<p>192 rows × 8 columns</p>\n",
       "</div>"
      ],
      "text/plain": [
       "             time  Ha Noi   Vinh  Da Nang  Nha Trang  Ho Chi Minh  Ca Mau  \\\n",
       "0    00 15-9-2019   25.65  24.79    24.01      25.06        25.48   24.97   \n",
       "1    01 15-9-2019   25.31  24.21    24.02      24.93        25.16   24.83   \n",
       "2    02 15-9-2019   25.05  23.73    23.89      24.79        24.80   24.55   \n",
       "3    03 15-9-2019   24.79  23.36    23.83      24.84        24.74   24.48   \n",
       "4    04 15-9-2019   24.59  23.05    23.69      24.82        24.80   24.38   \n",
       "..            ...     ...    ...      ...        ...          ...     ...   \n",
       "187  19 22-9-2019   26.56  24.92    24.10      26.11        25.56   26.43   \n",
       "188  20 22-9-2019   25.69  24.77    23.76      25.97        25.23   25.88   \n",
       "189  21 22-9-2019   24.81  24.47    23.40      25.86        25.05   25.29   \n",
       "190  22 22-9-2019   23.97  24.22    22.95      25.74        24.92   24.87   \n",
       "191  23 22-9-2019   22.84  23.99    22.59      25.50        24.77   24.57   \n",
       "\n",
       "      z_score  \n",
       "0   -0.672797  \n",
       "1   -0.783343  \n",
       "2   -0.867879  \n",
       "3   -0.952415  \n",
       "4   -1.017442  \n",
       "..        ...  \n",
       "187 -0.376922  \n",
       "188 -0.659791  \n",
       "189 -0.945912  \n",
       "190 -1.219027  \n",
       "191 -1.586432  \n",
       "\n",
       "[192 rows x 8 columns]"
      ]
     },
     "execution_count": 68,
     "metadata": {},
     "output_type": "execute_result"
    }
   ],
   "source": [
    "db['z_score'] = stats.zscore(db['Ha Noi'], ddof=1)\n",
    "db"
   ]
  },
  {
   "cell_type": "code",
   "execution_count": 74,
   "id": "5b87896c-b9c8-483f-a088-c6778bdc2e57",
   "metadata": {},
   "outputs": [
    {
     "data": {
      "text/html": [
       "<div>\n",
       "<style scoped>\n",
       "    .dataframe tbody tr th:only-of-type {\n",
       "        vertical-align: middle;\n",
       "    }\n",
       "\n",
       "    .dataframe tbody tr th {\n",
       "        vertical-align: top;\n",
       "    }\n",
       "\n",
       "    .dataframe thead th {\n",
       "        text-align: right;\n",
       "    }\n",
       "</style>\n",
       "<table border=\"1\" class=\"dataframe\">\n",
       "  <thead>\n",
       "    <tr style=\"text-align: right;\">\n",
       "      <th></th>\n",
       "      <th>time</th>\n",
       "      <th>Ha Noi</th>\n",
       "      <th>Vinh</th>\n",
       "      <th>Da Nang</th>\n",
       "      <th>Nha Trang</th>\n",
       "      <th>Ho Chi Minh</th>\n",
       "      <th>Ca Mau</th>\n",
       "      <th>z_score</th>\n",
       "    </tr>\n",
       "  </thead>\n",
       "  <tbody>\n",
       "    <tr>\n",
       "      <th>15</th>\n",
       "      <td>15 15-9-2019</td>\n",
       "      <td>42.0</td>\n",
       "      <td>30.58</td>\n",
       "      <td>26.29</td>\n",
       "      <td>26.68</td>\n",
       "      <td>27.29</td>\n",
       "      <td>30.59</td>\n",
       "      <td>4.643195</td>\n",
       "    </tr>\n",
       "    <tr>\n",
       "      <th>125</th>\n",
       "      <td>05 20-9-2019</td>\n",
       "      <td>14.0</td>\n",
       "      <td>22.60</td>\n",
       "      <td>23.98</td>\n",
       "      <td>25.21</td>\n",
       "      <td>23.25</td>\n",
       "      <td>24.07</td>\n",
       "      <td>-4.460644</td>\n",
       "    </tr>\n",
       "  </tbody>\n",
       "</table>\n",
       "</div>"
      ],
      "text/plain": [
       "             time  Ha Noi   Vinh  Da Nang  Nha Trang  Ho Chi Minh  Ca Mau  \\\n",
       "15   15 15-9-2019    42.0  30.58    26.29      26.68        27.29   30.59   \n",
       "125  05 20-9-2019    14.0  22.60    23.98      25.21        23.25   24.07   \n",
       "\n",
       "      z_score  \n",
       "15   4.643195  \n",
       "125 -4.460644  "
      ]
     },
     "execution_count": 74,
     "metadata": {},
     "output_type": "execute_result"
    }
   ],
   "source": [
    "db[(db['z_score']>3) | (db['z_score']<-3)]"
   ]
  },
  {
   "cell_type": "code",
   "execution_count": 78,
   "id": "d0a7cdb5-a2c9-4108-b0ed-114acbce3118",
   "metadata": {},
   "outputs": [
    {
     "name": "stdout",
     "output_type": "stream",
     "text": [
      "dữ liệu trước khi lọc:  (192, 8)\n",
      "dữ liệu sau khi lọc:  (191, 8)\n"
     ]
    }
   ],
   "source": [
    "print('dữ liệu trước khi lọc: ',db.shape)\n",
    "db_fillrered = db[db['z_score']<3]\n",
    "print('dữ liệu sau khi lọc: ',db_fillrered.shape)"
   ]
  },
  {
   "cell_type": "code",
   "execution_count": null,
   "id": "db7696ad-a0ba-493f-ad77-4468abb85634",
   "metadata": {},
   "outputs": [],
   "source": []
  }
 ],
 "metadata": {
  "kernelspec": {
   "display_name": "Python 3 (ipykernel)",
   "language": "python",
   "name": "python3"
  },
  "language_info": {
   "codemirror_mode": {
    "name": "ipython",
    "version": 3
   },
   "file_extension": ".py",
   "mimetype": "text/x-python",
   "name": "python",
   "nbconvert_exporter": "python",
   "pygments_lexer": "ipython3",
   "version": "3.12.4"
  }
 },
 "nbformat": 4,
 "nbformat_minor": 5
}
