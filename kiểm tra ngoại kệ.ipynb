{
 "cells": [
  {
   "cell_type": "code",
   "execution_count": 1,
   "id": "6bf747e3-d009-404b-b204-5fbec906894e",
   "metadata": {},
   "outputs": [],
   "source": [
    "import pandas as pd"
   ]
  },
  {
   "cell_type": "code",
   "execution_count": 3,
   "id": "4bfc1624-46f3-40bb-854b-06932ff59715",
   "metadata": {},
   "outputs": [],
   "source": [
    "df = pd.read_csv('data/temperature.csv')"
   ]
  },
  {
   "cell_type": "code",
   "execution_count": 5,
   "id": "8c295979-2a78-49e6-b373-fde7b39e58f9",
   "metadata": {},
   "outputs": [
    {
     "data": {
      "text/html": [
       "<div>\n",
       "<style scoped>\n",
       "    .dataframe tbody tr th:only-of-type {\n",
       "        vertical-align: middle;\n",
       "    }\n",
       "\n",
       "    .dataframe tbody tr th {\n",
       "        vertical-align: top;\n",
       "    }\n",
       "\n",
       "    .dataframe thead th {\n",
       "        text-align: right;\n",
       "    }\n",
       "</style>\n",
       "<table border=\"1\" class=\"dataframe\">\n",
       "  <thead>\n",
       "    <tr style=\"text-align: right;\">\n",
       "      <th></th>\n",
       "      <th>time</th>\n",
       "      <th>Ha Noi</th>\n",
       "      <th>Vinh</th>\n",
       "      <th>Da Nang</th>\n",
       "      <th>Nha Trang</th>\n",
       "      <th>Ho Chi Minh</th>\n",
       "      <th>Ca Mau</th>\n",
       "    </tr>\n",
       "  </thead>\n",
       "  <tbody>\n",
       "    <tr>\n",
       "      <th>0</th>\n",
       "      <td>00 15-9-2019</td>\n",
       "      <td>25.65</td>\n",
       "      <td>24.79</td>\n",
       "      <td>24.01</td>\n",
       "      <td>25.06</td>\n",
       "      <td>25.48</td>\n",
       "      <td>24.97</td>\n",
       "    </tr>\n",
       "    <tr>\n",
       "      <th>1</th>\n",
       "      <td>01 15-9-2019</td>\n",
       "      <td>25.31</td>\n",
       "      <td>24.21</td>\n",
       "      <td>24.02</td>\n",
       "      <td>24.93</td>\n",
       "      <td>25.16</td>\n",
       "      <td>24.83</td>\n",
       "    </tr>\n",
       "    <tr>\n",
       "      <th>2</th>\n",
       "      <td>02 15-9-2019</td>\n",
       "      <td>25.05</td>\n",
       "      <td>23.73</td>\n",
       "      <td>23.89</td>\n",
       "      <td>24.79</td>\n",
       "      <td>24.80</td>\n",
       "      <td>24.55</td>\n",
       "    </tr>\n",
       "    <tr>\n",
       "      <th>3</th>\n",
       "      <td>03 15-9-2019</td>\n",
       "      <td>24.79</td>\n",
       "      <td>23.36</td>\n",
       "      <td>23.83</td>\n",
       "      <td>24.84</td>\n",
       "      <td>24.74</td>\n",
       "      <td>24.48</td>\n",
       "    </tr>\n",
       "    <tr>\n",
       "      <th>4</th>\n",
       "      <td>04 15-9-2019</td>\n",
       "      <td>24.59</td>\n",
       "      <td>23.05</td>\n",
       "      <td>23.69</td>\n",
       "      <td>24.82</td>\n",
       "      <td>24.80</td>\n",
       "      <td>24.38</td>\n",
       "    </tr>\n",
       "  </tbody>\n",
       "</table>\n",
       "</div>"
      ],
      "text/plain": [
       "           time  Ha Noi   Vinh  Da Nang  Nha Trang  Ho Chi Minh  Ca Mau\n",
       "0  00 15-9-2019   25.65  24.79    24.01      25.06        25.48   24.97\n",
       "1  01 15-9-2019   25.31  24.21    24.02      24.93        25.16   24.83\n",
       "2  02 15-9-2019   25.05  23.73    23.89      24.79        24.80   24.55\n",
       "3  03 15-9-2019   24.79  23.36    23.83      24.84        24.74   24.48\n",
       "4  04 15-9-2019   24.59  23.05    23.69      24.82        24.80   24.38"
      ]
     },
     "execution_count": 5,
     "metadata": {},
     "output_type": "execute_result"
    }
   ],
   "source": [
    "df.head()"
   ]
  },
  {
   "cell_type": "code",
   "execution_count": 9,
   "id": "89d8281c-b584-4aa1-ad80-2312db53a454",
   "metadata": {},
   "outputs": [
    {
     "name": "stdout",
     "output_type": "stream",
     "text": [
      "time           0\n",
      "Ha Noi         0\n",
      "Vinh           0\n",
      "Da Nang        0\n",
      "Nha Trang      0\n",
      "Ho Chi Minh    0\n",
      "Ca Mau         0\n",
      "dtype: int64\n"
     ]
    }
   ],
   "source": [
    "missing_values = df.isnull().sum()\n",
    "print(missing_values)"
   ]
  },
  {
   "cell_type": "code",
   "execution_count": 13,
   "id": "9896479d-a92e-4aa6-a450-2a879468cec5",
   "metadata": {},
   "outputs": [
    {
     "data": {
      "text/plain": [
       "0"
      ]
     },
     "execution_count": 13,
     "metadata": {},
     "output_type": "execute_result"
    }
   ],
   "source": [
    "df.duplicated().sum()"
   ]
  },
  {
   "cell_type": "code",
   "execution_count": 15,
   "id": "6951efa9-743a-4638-b768-acb4eb6f6d1b",
   "metadata": {},
   "outputs": [
    {
     "name": "stdout",
     "output_type": "stream",
     "text": [
      "time            object\n",
      "Ha Noi         float64\n",
      "Vinh           float64\n",
      "Da Nang        float64\n",
      "Nha Trang      float64\n",
      "Ho Chi Minh    float64\n",
      "Ca Mau         float64\n",
      "dtype: object\n"
     ]
    }
   ],
   "source": [
    "data_types = df.dtypes\n",
    "print(data_types)"
   ]
  },
  {
   "cell_type": "code",
   "execution_count": null,
   "id": "898135ce-7df5-4ce8-981d-2c15744c2895",
   "metadata": {},
   "outputs": [],
   "source": []
  }
 ],
 "metadata": {
  "kernelspec": {
   "display_name": "Python 3 (ipykernel)",
   "language": "python",
   "name": "python3"
  },
  "language_info": {
   "codemirror_mode": {
    "name": "ipython",
    "version": 3
   },
   "file_extension": ".py",
   "mimetype": "text/x-python",
   "name": "python",
   "nbconvert_exporter": "python",
   "pygments_lexer": "ipython3",
   "version": "3.12.4"
  }
 },
 "nbformat": 4,
 "nbformat_minor": 5
}
